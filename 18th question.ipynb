{
 "cells": [
  {
   "cell_type": "markdown",
   "id": "d5c65766-b367-4fdf-9e38-bd728bc993a2",
   "metadata": {},
   "source": [
    "## 18 : answer :-"
   ]
  },
  {
   "cell_type": "code",
   "execution_count": 1,
   "id": "b6fa8eea-8494-473d-b5e9-f1eb79fed1a8",
   "metadata": {},
   "outputs": [],
   "source": [
    "import time\n",
    "\n",
    "def timer(func):\n",
    "    def wrapper(*args, **kwargs):\n",
    "        start_time = time.time()\n",
    "        result = func(*args, **kwargs)\n",
    "        end_time = time.time()\n",
    "        execution_time = end_time - start_time\n",
    "        print(f\"Execution time: {execution_time} seconds\")\n",
    "        return result\n",
    "    return wrapper\n"
   ]
  },
  {
   "cell_type": "code",
   "execution_count": 2,
   "id": "b4ddd51d-dc5f-4416-b5e7-dd6d9ebab97a",
   "metadata": {},
   "outputs": [
    {
     "name": "stdout",
     "output_type": "stream",
     "text": [
      "Execution time: 2.002246618270874 seconds\n",
      "Function executed successfully!\n"
     ]
    }
   ],
   "source": [
    "@timer\n",
    "def my_function():\n",
    "    # Code to measure the execution time for\n",
    "    time.sleep(2)\n",
    "    return \"Function executed successfully!\"\n",
    "\n",
    "# Call the decorated function\n",
    "result = my_function()\n",
    "print(result)\n"
   ]
  },
  {
   "cell_type": "code",
   "execution_count": null,
   "id": "e58a2dd7-b388-42b3-9b32-bd0d22cafe87",
   "metadata": {},
   "outputs": [],
   "source": []
  },
  {
   "cell_type": "code",
   "execution_count": null,
   "id": "cdae6e9a-8c5c-42c2-b7dd-07f54a614f0c",
   "metadata": {},
   "outputs": [],
   "source": []
  },
  {
   "cell_type": "code",
   "execution_count": null,
   "id": "3ee44a6f-3f7a-4c8c-801b-dc25f81f2cb9",
   "metadata": {},
   "outputs": [],
   "source": []
  },
  {
   "cell_type": "code",
   "execution_count": null,
   "id": "4fa5395c-d3f2-42ef-9bbe-70bd6e430d8b",
   "metadata": {},
   "outputs": [],
   "source": []
  },
  {
   "cell_type": "code",
   "execution_count": null,
   "id": "f192e714-c6dd-412b-827b-8ff11ef3f9cc",
   "metadata": {},
   "outputs": [],
   "source": []
  },
  {
   "cell_type": "code",
   "execution_count": null,
   "id": "ac3d88e8-3d84-48e1-8ed6-0b6022c2d811",
   "metadata": {},
   "outputs": [],
   "source": []
  },
  {
   "cell_type": "code",
   "execution_count": null,
   "id": "d67a7258-bdd7-4d90-b015-685acca4b89c",
   "metadata": {},
   "outputs": [],
   "source": []
  }
 ],
 "metadata": {
  "kernelspec": {
   "display_name": "Python 3 (ipykernel)",
   "language": "python",
   "name": "python3"
  },
  "language_info": {
   "codemirror_mode": {
    "name": "ipython",
    "version": 3
   },
   "file_extension": ".py",
   "mimetype": "text/x-python",
   "name": "python",
   "nbconvert_exporter": "python",
   "pygments_lexer": "ipython3",
   "version": "3.10.8"
  }
 },
 "nbformat": 4,
 "nbformat_minor": 5
}
